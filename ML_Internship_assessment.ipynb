{
 "cells": [
  {
   "cell_type": "code",
   "execution_count": 1,
   "id": "4f7975f6",
   "metadata": {},
   "outputs": [
    {
     "name": "stderr",
     "output_type": "stream",
     "text": [
      "C:\\Users\\Anshika\\anaconda3\\2023\\lib\\site-packages\\scipy\\__init__.py:155: UserWarning: A NumPy version >=1.18.5 and <1.25.0 is required for this version of SciPy (detected version 1.25.2\n",
      "  warnings.warn(f\"A NumPy version >={np_minversion} and <{np_maxversion}\"\n"
     ]
    }
   ],
   "source": [
    "import pandas as pd\n",
    "import numpy as np\n",
    "import matplotlib.pyplot as plt\n",
    "import seaborn as sns\n",
    "%matplotlib inline\n",
    "import warnings\n",
    "import plotly.express as px\n",
    "warnings.simplefilter('ignore')\n",
    "plt.style.use(\"fivethirtyeight\")"
   ]
  },
  {
   "cell_type": "code",
   "execution_count": 2,
   "id": "ce4043e5",
   "metadata": {},
   "outputs": [],
   "source": [
    "df = pd.read_csv('customer_churn_large_dataset.csv')"
   ]
  },
  {
   "cell_type": "code",
   "execution_count": 3,
   "id": "289af9be",
   "metadata": {},
   "outputs": [
    {
     "data": {
      "text/html": [
       "<div>\n",
       "<style scoped>\n",
       "    .dataframe tbody tr th:only-of-type {\n",
       "        vertical-align: middle;\n",
       "    }\n",
       "\n",
       "    .dataframe tbody tr th {\n",
       "        vertical-align: top;\n",
       "    }\n",
       "\n",
       "    .dataframe thead th {\n",
       "        text-align: right;\n",
       "    }\n",
       "</style>\n",
       "<table border=\"1\" class=\"dataframe\">\n",
       "  <thead>\n",
       "    <tr style=\"text-align: right;\">\n",
       "      <th></th>\n",
       "      <th>CustomerID</th>\n",
       "      <th>Name</th>\n",
       "      <th>Age</th>\n",
       "      <th>Gender</th>\n",
       "      <th>Location</th>\n",
       "      <th>Subscription_Length_Months</th>\n",
       "      <th>Monthly_Bill</th>\n",
       "      <th>Total_Usage_GB</th>\n",
       "      <th>Churn</th>\n",
       "    </tr>\n",
       "  </thead>\n",
       "  <tbody>\n",
       "    <tr>\n",
       "      <th>0</th>\n",
       "      <td>1</td>\n",
       "      <td>Customer_1</td>\n",
       "      <td>63</td>\n",
       "      <td>Male</td>\n",
       "      <td>Los Angeles</td>\n",
       "      <td>17</td>\n",
       "      <td>73.36</td>\n",
       "      <td>236</td>\n",
       "      <td>0</td>\n",
       "    </tr>\n",
       "    <tr>\n",
       "      <th>1</th>\n",
       "      <td>2</td>\n",
       "      <td>Customer_2</td>\n",
       "      <td>62</td>\n",
       "      <td>Female</td>\n",
       "      <td>New York</td>\n",
       "      <td>1</td>\n",
       "      <td>48.76</td>\n",
       "      <td>172</td>\n",
       "      <td>0</td>\n",
       "    </tr>\n",
       "    <tr>\n",
       "      <th>2</th>\n",
       "      <td>3</td>\n",
       "      <td>Customer_3</td>\n",
       "      <td>24</td>\n",
       "      <td>Female</td>\n",
       "      <td>Los Angeles</td>\n",
       "      <td>5</td>\n",
       "      <td>85.47</td>\n",
       "      <td>460</td>\n",
       "      <td>0</td>\n",
       "    </tr>\n",
       "    <tr>\n",
       "      <th>3</th>\n",
       "      <td>4</td>\n",
       "      <td>Customer_4</td>\n",
       "      <td>36</td>\n",
       "      <td>Female</td>\n",
       "      <td>Miami</td>\n",
       "      <td>3</td>\n",
       "      <td>97.94</td>\n",
       "      <td>297</td>\n",
       "      <td>1</td>\n",
       "    </tr>\n",
       "    <tr>\n",
       "      <th>4</th>\n",
       "      <td>5</td>\n",
       "      <td>Customer_5</td>\n",
       "      <td>46</td>\n",
       "      <td>Female</td>\n",
       "      <td>Miami</td>\n",
       "      <td>19</td>\n",
       "      <td>58.14</td>\n",
       "      <td>266</td>\n",
       "      <td>0</td>\n",
       "    </tr>\n",
       "  </tbody>\n",
       "</table>\n",
       "</div>"
      ],
      "text/plain": [
       "   CustomerID        Name  Age  Gender     Location  \\\n",
       "0           1  Customer_1   63    Male  Los Angeles   \n",
       "1           2  Customer_2   62  Female     New York   \n",
       "2           3  Customer_3   24  Female  Los Angeles   \n",
       "3           4  Customer_4   36  Female        Miami   \n",
       "4           5  Customer_5   46  Female        Miami   \n",
       "\n",
       "   Subscription_Length_Months  Monthly_Bill  Total_Usage_GB  Churn  \n",
       "0                          17         73.36             236      0  \n",
       "1                           1         48.76             172      0  \n",
       "2                           5         85.47             460      0  \n",
       "3                           3         97.94             297      1  \n",
       "4                          19         58.14             266      0  "
      ]
     },
     "execution_count": 3,
     "metadata": {},
     "output_type": "execute_result"
    }
   ],
   "source": [
    "df.head()"
   ]
  },
  {
   "cell_type": "code",
   "execution_count": 4,
   "id": "5a46a5cc",
   "metadata": {},
   "outputs": [
    {
     "data": {
      "text/plain": [
       "(100000, 9)"
      ]
     },
     "execution_count": 4,
     "metadata": {},
     "output_type": "execute_result"
    }
   ],
   "source": [
    "df.shape"
   ]
  },
  {
   "cell_type": "code",
   "execution_count": 5,
   "id": "06a8cf6e",
   "metadata": {},
   "outputs": [
    {
     "data": {
      "text/plain": [
       "CustomerID                      int64\n",
       "Name                           object\n",
       "Age                             int64\n",
       "Gender                         object\n",
       "Location                       object\n",
       "Subscription_Length_Months      int64\n",
       "Monthly_Bill                  float64\n",
       "Total_Usage_GB                  int64\n",
       "Churn                           int64\n",
       "dtype: object"
      ]
     },
     "execution_count": 5,
     "metadata": {},
     "output_type": "execute_result"
    }
   ],
   "source": [
    "df.dtypes"
   ]
  },
  {
   "cell_type": "code",
   "execution_count": 6,
   "id": "98d72e2f",
   "metadata": {},
   "outputs": [
    {
     "data": {
      "text/plain": [
       "CustomerID                    0\n",
       "Name                          0\n",
       "Age                           0\n",
       "Gender                        0\n",
       "Location                      0\n",
       "Subscription_Length_Months    0\n",
       "Monthly_Bill                  0\n",
       "Total_Usage_GB                0\n",
       "Churn                         0\n",
       "dtype: int64"
      ]
     },
     "execution_count": 6,
     "metadata": {},
     "output_type": "execute_result"
    }
   ],
   "source": [
    "df.isna().sum()\n"
   ]
  },
  {
   "cell_type": "code",
   "execution_count": 7,
   "id": "3bdefc92",
   "metadata": {},
   "outputs": [
    {
     "name": "stdout",
     "output_type": "stream",
     "text": [
      "<class 'pandas.core.frame.DataFrame'>\n",
      "RangeIndex: 100000 entries, 0 to 99999\n",
      "Data columns (total 9 columns):\n",
      " #   Column                      Non-Null Count   Dtype  \n",
      "---  ------                      --------------   -----  \n",
      " 0   CustomerID                  100000 non-null  int64  \n",
      " 1   Name                        100000 non-null  object \n",
      " 2   Age                         100000 non-null  int64  \n",
      " 3   Gender                      100000 non-null  object \n",
      " 4   Location                    100000 non-null  object \n",
      " 5   Subscription_Length_Months  100000 non-null  int64  \n",
      " 6   Monthly_Bill                100000 non-null  float64\n",
      " 7   Total_Usage_GB              100000 non-null  int64  \n",
      " 8   Churn                       100000 non-null  int64  \n",
      "dtypes: float64(1), int64(5), object(3)\n",
      "memory usage: 6.9+ MB\n"
     ]
    }
   ],
   "source": [
    "df.info()"
   ]
  },
  {
   "cell_type": "code",
   "execution_count": 23,
   "id": "28153af0",
   "metadata": {},
   "outputs": [
    {
     "data": {
      "text/html": [
       "<div>\n",
       "<style scoped>\n",
       "    .dataframe tbody tr th:only-of-type {\n",
       "        vertical-align: middle;\n",
       "    }\n",
       "\n",
       "    .dataframe tbody tr th {\n",
       "        vertical-align: top;\n",
       "    }\n",
       "\n",
       "    .dataframe thead th {\n",
       "        text-align: right;\n",
       "    }\n",
       "</style>\n",
       "<table border=\"1\" class=\"dataframe\">\n",
       "  <thead>\n",
       "    <tr style=\"text-align: right;\">\n",
       "      <th></th>\n",
       "      <th>CustomerID</th>\n",
       "      <th>Age</th>\n",
       "      <th>Subscription_Length_Months</th>\n",
       "      <th>Monthly_Bill</th>\n",
       "      <th>Total_Usage_GB</th>\n",
       "      <th>Churn</th>\n",
       "    </tr>\n",
       "  </thead>\n",
       "  <tbody>\n",
       "    <tr>\n",
       "      <th>count</th>\n",
       "      <td>100000.000000</td>\n",
       "      <td>100000.000000</td>\n",
       "      <td>100000.000000</td>\n",
       "      <td>100000.000000</td>\n",
       "      <td>100000.000000</td>\n",
       "      <td>100000.000000</td>\n",
       "    </tr>\n",
       "    <tr>\n",
       "      <th>mean</th>\n",
       "      <td>50000.500000</td>\n",
       "      <td>44.027020</td>\n",
       "      <td>12.490100</td>\n",
       "      <td>65.053197</td>\n",
       "      <td>274.393650</td>\n",
       "      <td>0.497790</td>\n",
       "    </tr>\n",
       "    <tr>\n",
       "      <th>std</th>\n",
       "      <td>28867.657797</td>\n",
       "      <td>15.280283</td>\n",
       "      <td>6.926461</td>\n",
       "      <td>20.230696</td>\n",
       "      <td>130.463063</td>\n",
       "      <td>0.499998</td>\n",
       "    </tr>\n",
       "    <tr>\n",
       "      <th>min</th>\n",
       "      <td>1.000000</td>\n",
       "      <td>18.000000</td>\n",
       "      <td>1.000000</td>\n",
       "      <td>30.000000</td>\n",
       "      <td>50.000000</td>\n",
       "      <td>0.000000</td>\n",
       "    </tr>\n",
       "    <tr>\n",
       "      <th>25%</th>\n",
       "      <td>25000.750000</td>\n",
       "      <td>31.000000</td>\n",
       "      <td>6.000000</td>\n",
       "      <td>47.540000</td>\n",
       "      <td>161.000000</td>\n",
       "      <td>0.000000</td>\n",
       "    </tr>\n",
       "    <tr>\n",
       "      <th>50%</th>\n",
       "      <td>50000.500000</td>\n",
       "      <td>44.000000</td>\n",
       "      <td>12.000000</td>\n",
       "      <td>65.010000</td>\n",
       "      <td>274.000000</td>\n",
       "      <td>0.000000</td>\n",
       "    </tr>\n",
       "    <tr>\n",
       "      <th>75%</th>\n",
       "      <td>75000.250000</td>\n",
       "      <td>57.000000</td>\n",
       "      <td>19.000000</td>\n",
       "      <td>82.640000</td>\n",
       "      <td>387.000000</td>\n",
       "      <td>1.000000</td>\n",
       "    </tr>\n",
       "    <tr>\n",
       "      <th>max</th>\n",
       "      <td>100000.000000</td>\n",
       "      <td>70.000000</td>\n",
       "      <td>24.000000</td>\n",
       "      <td>100.000000</td>\n",
       "      <td>500.000000</td>\n",
       "      <td>1.000000</td>\n",
       "    </tr>\n",
       "  </tbody>\n",
       "</table>\n",
       "</div>"
      ],
      "text/plain": [
       "          CustomerID            Age  Subscription_Length_Months  \\\n",
       "count  100000.000000  100000.000000               100000.000000   \n",
       "mean    50000.500000      44.027020                   12.490100   \n",
       "std     28867.657797      15.280283                    6.926461   \n",
       "min         1.000000      18.000000                    1.000000   \n",
       "25%     25000.750000      31.000000                    6.000000   \n",
       "50%     50000.500000      44.000000                   12.000000   \n",
       "75%     75000.250000      57.000000                   19.000000   \n",
       "max    100000.000000      70.000000                   24.000000   \n",
       "\n",
       "        Monthly_Bill  Total_Usage_GB          Churn  \n",
       "count  100000.000000   100000.000000  100000.000000  \n",
       "mean       65.053197      274.393650       0.497790  \n",
       "std        20.230696      130.463063       0.499998  \n",
       "min        30.000000       50.000000       0.000000  \n",
       "25%        47.540000      161.000000       0.000000  \n",
       "50%        65.010000      274.000000       0.000000  \n",
       "75%        82.640000      387.000000       1.000000  \n",
       "max       100.000000      500.000000       1.000000  "
      ]
     },
     "execution_count": 23,
     "metadata": {},
     "output_type": "execute_result"
    }
   ],
   "source": [
    "df.describe()"
   ]
  },
  {
   "cell_type": "markdown",
   "id": "d9e73e97",
   "metadata": {},
   "source": [
    "AGE - \n",
    "Average age of the customers is approximately 44(Years).\n",
    "Youngest person is 18 (Years) old.\n",
    "Oldest person is 70 (years) old.\n",
    "\n",
    "Subscription_Length_Months -\n",
    "On an average, customers have a subscription length of around 12.5 months.\n",
    "The majority of customers have subscription lengths from 6 to 19 months.\n",
    "\n",
    "Monthly_Bill - \n",
    "Average monthly bill is approx. $65.\n",
    "Customers pay between approximately 47.50 Dollar to 82.64 Dollar per month.\n",
    "\n",
    "Churn -\n",
    "Churn values are binary - 1 and 0, indicating whether a customer has churned or not.\n",
    "Churn rate is evenly distributed due to a mean close to around 0.5.\n",
    "\n",
    "Total_Usage_GB - \n",
    "The average total usage is about 274.4 GB.\n",
    "Total usage varies between 50 GB and 500 GB.\n",
    "Most customers have total usage between 161 GB and 387 GB.\n"
   ]
  },
  {
   "cell_type": "markdown",
   "id": "651bc0af",
   "metadata": {},
   "source": [
    "Categorical Data Count"
   ]
  },
  {
   "cell_type": "code",
   "execution_count": 19,
   "id": "46110c6c",
   "metadata": {},
   "outputs": [
    {
     "data": {
      "text/plain": [
       "Female    50216\n",
       "Male      49784\n",
       "Name: Gender, dtype: int64"
      ]
     },
     "execution_count": 19,
     "metadata": {},
     "output_type": "execute_result"
    }
   ],
   "source": [
    "df['Gender'].value_counts()"
   ]
  },
  {
   "cell_type": "code",
   "execution_count": 20,
   "id": "525fb77b",
   "metadata": {},
   "outputs": [
    {
     "data": {
      "text/plain": [
       "Houston        20157\n",
       "Los Angeles    20041\n",
       "Miami          20031\n",
       "Chicago        19958\n",
       "New York       19813\n",
       "Name: Location, dtype: int64"
      ]
     },
     "execution_count": 20,
     "metadata": {},
     "output_type": "execute_result"
    }
   ],
   "source": [
    "df['Location'].value_counts()"
   ]
  },
  {
   "cell_type": "code",
   "execution_count": 24,
   "id": "4637161a",
   "metadata": {},
   "outputs": [
    {
     "data": {
      "text/html": [
       "<div>\n",
       "<style scoped>\n",
       "    .dataframe tbody tr th:only-of-type {\n",
       "        vertical-align: middle;\n",
       "    }\n",
       "\n",
       "    .dataframe tbody tr th {\n",
       "        vertical-align: top;\n",
       "    }\n",
       "\n",
       "    .dataframe thead th {\n",
       "        text-align: right;\n",
       "    }\n",
       "</style>\n",
       "<table border=\"1\" class=\"dataframe\">\n",
       "  <thead>\n",
       "    <tr style=\"text-align: right;\">\n",
       "      <th></th>\n",
       "      <th>CustomerID</th>\n",
       "      <th>Age</th>\n",
       "      <th>Subscription_Length_Months</th>\n",
       "      <th>Monthly_Bill</th>\n",
       "      <th>Total_Usage_GB</th>\n",
       "      <th>Churn</th>\n",
       "    </tr>\n",
       "  </thead>\n",
       "  <tbody>\n",
       "    <tr>\n",
       "      <th>CustomerID</th>\n",
       "      <td>1.000000</td>\n",
       "      <td>-0.001085</td>\n",
       "      <td>0.005444</td>\n",
       "      <td>0.001265</td>\n",
       "      <td>-0.004025</td>\n",
       "      <td>-0.004586</td>\n",
       "    </tr>\n",
       "    <tr>\n",
       "      <th>Age</th>\n",
       "      <td>-0.001085</td>\n",
       "      <td>1.000000</td>\n",
       "      <td>0.003382</td>\n",
       "      <td>0.001110</td>\n",
       "      <td>0.001927</td>\n",
       "      <td>0.001559</td>\n",
       "    </tr>\n",
       "    <tr>\n",
       "      <th>Subscription_Length_Months</th>\n",
       "      <td>0.005444</td>\n",
       "      <td>0.003382</td>\n",
       "      <td>1.000000</td>\n",
       "      <td>-0.005294</td>\n",
       "      <td>-0.002203</td>\n",
       "      <td>0.002328</td>\n",
       "    </tr>\n",
       "    <tr>\n",
       "      <th>Monthly_Bill</th>\n",
       "      <td>0.001265</td>\n",
       "      <td>0.001110</td>\n",
       "      <td>-0.005294</td>\n",
       "      <td>1.000000</td>\n",
       "      <td>0.003187</td>\n",
       "      <td>-0.000211</td>\n",
       "    </tr>\n",
       "    <tr>\n",
       "      <th>Total_Usage_GB</th>\n",
       "      <td>-0.004025</td>\n",
       "      <td>0.001927</td>\n",
       "      <td>-0.002203</td>\n",
       "      <td>0.003187</td>\n",
       "      <td>1.000000</td>\n",
       "      <td>-0.002842</td>\n",
       "    </tr>\n",
       "    <tr>\n",
       "      <th>Churn</th>\n",
       "      <td>-0.004586</td>\n",
       "      <td>0.001559</td>\n",
       "      <td>0.002328</td>\n",
       "      <td>-0.000211</td>\n",
       "      <td>-0.002842</td>\n",
       "      <td>1.000000</td>\n",
       "    </tr>\n",
       "  </tbody>\n",
       "</table>\n",
       "</div>"
      ],
      "text/plain": [
       "                            CustomerID       Age  Subscription_Length_Months  \\\n",
       "CustomerID                    1.000000 -0.001085                    0.005444   \n",
       "Age                          -0.001085  1.000000                    0.003382   \n",
       "Subscription_Length_Months    0.005444  0.003382                    1.000000   \n",
       "Monthly_Bill                  0.001265  0.001110                   -0.005294   \n",
       "Total_Usage_GB               -0.004025  0.001927                   -0.002203   \n",
       "Churn                        -0.004586  0.001559                    0.002328   \n",
       "\n",
       "                            Monthly_Bill  Total_Usage_GB     Churn  \n",
       "CustomerID                      0.001265       -0.004025 -0.004586  \n",
       "Age                             0.001110        0.001927  0.001559  \n",
       "Subscription_Length_Months     -0.005294       -0.002203  0.002328  \n",
       "Monthly_Bill                    1.000000        0.003187 -0.000211  \n",
       "Total_Usage_GB                  0.003187        1.000000 -0.002842  \n",
       "Churn                          -0.000211       -0.002842  1.000000  "
      ]
     },
     "execution_count": 24,
     "metadata": {},
     "output_type": "execute_result"
    }
   ],
   "source": [
    "df.corr()"
   ]
  },
  {
   "cell_type": "markdown",
   "id": "524fe569",
   "metadata": {},
   "source": [
    "Printing unique value from each column\n",
    "Deleting unneccessary columns i.e - (CustomerID,Name)"
   ]
  },
  {
   "cell_type": "markdown",
   "id": "996aa30e",
   "metadata": {},
   "source": [
    "Analyzing Outliers"
   ]
  },
  {
   "cell_type": "code",
   "execution_count": 27,
   "id": "d0f479fd",
   "metadata": {},
   "outputs": [
    {
     "data": {
      "image/png": "[encoded data removed]",
      "text/plain": [
       "<Figure size 900x400 with 1 Axes>"
      ]
     },
     "metadata": {},
     "output_type": "display_data"
    }
   ],
   "source": [
    "num_columns = len(df.columns)\n",
    "fig, ax = plt.subplots(figsize=(6, 2))\n",
    "if num_columns > 16:\n",
    "    fig.set_size_inches(10, num_columns * 0.6)\n",
    "else:\n",
    "    fig.set_size_inches(num_columns, 4)\n",
    "\n",
    "# Create a boxplot for each column\n",
    "df.boxplot(ax=ax)\n",
    "\n",
    "# Set the title and labels\n",
    "plt.title(\"Boxplot of Columns\")\n",
    "plt.xlabel(\"Columns\")\n",
    "plt.ylabel(\"Values\")\n",
    "\n",
    "# Rotate the x-axis labels for better readability (optional)\n",
    "plt.xticks(rotation=90)\n",
    "\n",
    "# Show the plot\n",
    "plt.show()"
   ]
  },
  {
   "cell_type": "markdown",
   "id": "a506933b",
   "metadata": {},
   "source": [
    "There is no outlier present "
   ]
  },
  {
   "cell_type": "code",
   "execution_count": 9,
   "id": "c30bf426",
   "metadata": {},
   "outputs": [
    {
     "name": "stdout",
     "output_type": "stream",
     "text": [
      "Name \n",
      "\n",
      "['Customer_1' 'Customer_2' 'Customer_3' ... 'Customer_99998'\n",
      " 'Customer_99999' 'Customer_100000'] \n",
      "\n",
      "Age \n",
      "\n",
      "[63 62 24 36 46 67 30 20 53 50 44 34 28 42 55 43 31 41 58 64 70 18 25 27\n",
      " 66 29 60 26 45 19 37 49 38 57 47 48 40 21 33 51 35 69 61 52 39 56 59 65\n",
      " 22 54 68 32 23] \n",
      "\n",
      "Gender \n",
      "\n",
      "['Male' 'Female'] \n",
      "\n",
      "Location \n",
      "\n",
      "['Los Angeles' 'New York' 'Miami' 'Chicago' 'Houston'] \n",
      "\n",
      "Subscription_Length_Months \n",
      "\n",
      "[17  1  5  3 19 15 10 12 20 13  8 23  2  4 18  9 14 16  6  7 24 22 11 21] \n",
      "\n",
      "Monthly_Bill \n",
      "\n",
      "[73.36 48.76 85.47 ... 75.21 41.98 83.55] \n",
      "\n",
      "Total_Usage_GB \n",
      "\n",
      "[236 172 460 297 266 456 269 396 150 383 442 295 148 239 233 231 198 354\n",
      " 429 243 270 389 226 393  89 183 135 185 151 115 194 278 423 202 495 162\n",
      " 101 294 122 305 212 220 253 411 447 218 221 166  64  67 391 232 298 334\n",
      " 326 459 371 299 376 214 329  50 444 113  76 134 184 319 235  85 332  73\n",
      " 369 308 446 321  83 114 296 102 215 169 225 140  84 463 402 468 375 366\n",
      " 404 471 204 320 178 149 361 304 281 177 117 137 322 427 403 237 439 336\n",
      " 344 288 257 196 365 419 111 192 244 287 395 213 109 286 283 230 491 274\n",
      " 335 462 407 126 199 351 261 496 480 400 303 197 181 474 348 112 457  54\n",
      " 397 100 318 242 327 476 256 241 466 438  51 165 120 493  59 188 339 167\n",
      " 301 209 311 190 345 284 390  72 258 358 136 280  55 309 388  52 478 401\n",
      " 472  65 163 488 497  71 216 229 271 223 263 255 145 203 372 443 306 307\n",
      " 386 448 377 482 324 357 187 394 123 106  80 211  78 499 498 424 325 119\n",
      " 143 153 437 492 406  69 272 352 125  82 160 333 104 247 405 353  63 289\n",
      "  88 346  91 385 380 431 364  79 300 374  86 290 265 433 469 453 224 421\n",
      " 251 485 180 171  95  93 350  58 200 420 132 428 479  96 103 129 417  99\n",
      " 430  75  53 382 412 268 410  94 315 387 116 489 108 208 313 127 222 451\n",
      "  56 139 282 138 141 156 373 157 467  68 414 360 144 273 217 189 118 155\n",
      "  62 413 154 458 449 490 464 379 254 131  92 195 450 347 191 425 432 384\n",
      "  57 494 173 210 363 130 487 455 105 399 323  61 341 426 240 302 176 152\n",
      " 331 440 276  87 291 193  90 500 170 174 182 359 408 454 158 328 436 312\n",
      " 338  60 362 205 416 483 415 477 484 252 250 164 146 161 234 473 317  77\n",
      " 267 342 110 343 133 330 367 147  81 277 310 392 349 314 107 259 228 168\n",
      " 246 219  98 121 142 238 206  97 381 245 175 124 292 340 316 465 470 475\n",
      " 248 445 452 249 337  66 418 201 227 422 481 355 279 435 275 260  70 186\n",
      " 159 368 179 262 370  74 378 128 461 293 441 434 207 356 398 285 409 486\n",
      " 264] \n",
      "\n",
      "Churn \n",
      "\n",
      "[0 1] \n",
      "\n"
     ]
    }
   ],
   "source": [
    "data_cols = df.drop('CustomerID', axis = 1)\n",
    "\n",
    "for col in data_cols.columns:\n",
    "    print(col, \"\\n\")\n",
    "    print(df[col].unique(), \"\\n\")"
   ]
  },
  {
   "cell_type": "code",
   "execution_count": 10,
   "id": "0e9fff87",
   "metadata": {},
   "outputs": [],
   "source": [
    "data = df.drop(['Name'], axis = 1)"
   ]
  },
  {
   "cell_type": "markdown",
   "id": "0600ac4c",
   "metadata": {},
   "source": [
    "Analyzing all the numerical/categorical values\n"
   ]
  },
  {
   "cell_type": "code",
   "execution_count": 11,
   "id": "2ceb4c56",
   "metadata": {},
   "outputs": [
    {
     "name": "stdout",
     "output_type": "stream",
     "text": [
      "Numerical: Index(['CustomerID', 'Age', 'Subscription_Length_Months', 'Monthly_Bill',\n",
      "       'Total_Usage_GB', 'Churn'],\n",
      "      dtype='object')\n",
      "\n",
      "Categorical: Index(['Gender', 'Location'], dtype='object')\n"
     ]
    }
   ],
   "source": [
    "numerical = data.select_dtypes(['number']).columns\n",
    "print(f'Numerical: {numerical}\\n')\n",
    "\n",
    "categorical = data.columns.difference(numerical)\n",
    "\n",
    "data[categorical] = data[categorical].astype('object')\n",
    "print(f'Categorical: {categorical}')"
   ]
  },
  {
   "cell_type": "markdown",
   "id": "b44caf3a",
   "metadata": {},
   "source": [
    "Creating ones, and zeros from categorical variables:"
   ]
  },
  {
   "cell_type": "code",
   "execution_count": 12,
   "id": "267fdd76",
   "metadata": {},
   "outputs": [],
   "source": [
    "data2 = pd.get_dummies(data)"
   ]
  },
  {
   "cell_type": "code",
   "execution_count": 13,
   "id": "9e6e72fd",
   "metadata": {},
   "outputs": [
    {
     "data": {
      "text/html": [
       "<div>\n",
       "<style scoped>\n",
       "    .dataframe tbody tr th:only-of-type {\n",
       "        vertical-align: middle;\n",
       "    }\n",
       "\n",
       "    .dataframe tbody tr th {\n",
       "        vertical-align: top;\n",
       "    }\n",
       "\n",
       "    .dataframe thead th {\n",
       "        text-align: right;\n",
       "    }\n",
       "</style>\n",
       "<table border=\"1\" class=\"dataframe\">\n",
       "  <thead>\n",
       "    <tr style=\"text-align: right;\">\n",
       "      <th></th>\n",
       "      <th>CustomerID</th>\n",
       "      <th>Age</th>\n",
       "      <th>Subscription_Length_Months</th>\n",
       "      <th>Monthly_Bill</th>\n",
       "      <th>Total_Usage_GB</th>\n",
       "      <th>Churn</th>\n",
       "      <th>Gender_Female</th>\n",
       "      <th>Gender_Male</th>\n",
       "      <th>Location_Chicago</th>\n",
       "      <th>Location_Houston</th>\n",
       "      <th>Location_Los Angeles</th>\n",
       "      <th>Location_Miami</th>\n",
       "      <th>Location_New York</th>\n",
       "    </tr>\n",
       "  </thead>\n",
       "  <tbody>\n",
       "    <tr>\n",
       "      <th>0</th>\n",
       "      <td>1</td>\n",
       "      <td>63</td>\n",
       "      <td>17</td>\n",
       "      <td>73.36</td>\n",
       "      <td>236</td>\n",
       "      <td>0</td>\n",
       "      <td>0</td>\n",
       "      <td>1</td>\n",
       "      <td>0</td>\n",
       "      <td>0</td>\n",
       "      <td>1</td>\n",
       "      <td>0</td>\n",
       "      <td>0</td>\n",
       "    </tr>\n",
       "    <tr>\n",
       "      <th>1</th>\n",
       "      <td>2</td>\n",
       "      <td>62</td>\n",
       "      <td>1</td>\n",
       "      <td>48.76</td>\n",
       "      <td>172</td>\n",
       "      <td>0</td>\n",
       "      <td>1</td>\n",
       "      <td>0</td>\n",
       "      <td>0</td>\n",
       "      <td>0</td>\n",
       "      <td>0</td>\n",
       "      <td>0</td>\n",
       "      <td>1</td>\n",
       "    </tr>\n",
       "    <tr>\n",
       "      <th>2</th>\n",
       "      <td>3</td>\n",
       "      <td>24</td>\n",
       "      <td>5</td>\n",
       "      <td>85.47</td>\n",
       "      <td>460</td>\n",
       "      <td>0</td>\n",
       "      <td>1</td>\n",
       "      <td>0</td>\n",
       "      <td>0</td>\n",
       "      <td>0</td>\n",
       "      <td>1</td>\n",
       "      <td>0</td>\n",
       "      <td>0</td>\n",
       "    </tr>\n",
       "    <tr>\n",
       "      <th>3</th>\n",
       "      <td>4</td>\n",
       "      <td>36</td>\n",
       "      <td>3</td>\n",
       "      <td>97.94</td>\n",
       "      <td>297</td>\n",
       "      <td>1</td>\n",
       "      <td>1</td>\n",
       "      <td>0</td>\n",
       "      <td>0</td>\n",
       "      <td>0</td>\n",
       "      <td>0</td>\n",
       "      <td>1</td>\n",
       "      <td>0</td>\n",
       "    </tr>\n",
       "    <tr>\n",
       "      <th>4</th>\n",
       "      <td>5</td>\n",
       "      <td>46</td>\n",
       "      <td>19</td>\n",
       "      <td>58.14</td>\n",
       "      <td>266</td>\n",
       "      <td>0</td>\n",
       "      <td>1</td>\n",
       "      <td>0</td>\n",
       "      <td>0</td>\n",
       "      <td>0</td>\n",
       "      <td>0</td>\n",
       "      <td>1</td>\n",
       "      <td>0</td>\n",
       "    </tr>\n",
       "  </tbody>\n",
       "</table>\n",
       "</div>"
      ],
      "text/plain": [
       "   CustomerID  Age  Subscription_Length_Months  Monthly_Bill  Total_Usage_GB  \\\n",
       "0           1   63                          17         73.36             236   \n",
       "1           2   62                           1         48.76             172   \n",
       "2           3   24                           5         85.47             460   \n",
       "3           4   36                           3         97.94             297   \n",
       "4           5   46                          19         58.14             266   \n",
       "\n",
       "   Churn  Gender_Female  Gender_Male  Location_Chicago  Location_Houston  \\\n",
       "0      0              0            1                 0                 0   \n",
       "1      0              1            0                 0                 0   \n",
       "2      0              1            0                 0                 0   \n",
       "3      1              1            0                 0                 0   \n",
       "4      0              1            0                 0                 0   \n",
       "\n",
       "   Location_Los Angeles  Location_Miami  Location_New York  \n",
       "0                     1               0                  0  \n",
       "1                     0               0                  1  \n",
       "2                     1               0                  0  \n",
       "3                     0               1                  0  \n",
       "4                     0               1                  0  "
      ]
     },
     "execution_count": 13,
     "metadata": {},
     "output_type": "execute_result"
    }
   ],
   "source": [
    "data2.head()"
   ]
  },
  {
   "cell_type": "code",
   "execution_count": 30,
   "id": "e6c4a982",
   "metadata": {},
   "outputs": [
    {
     "name": "stdout",
     "output_type": "stream",
     "text": [
      "Age \n",
      "\n",
      "[63 62 24 36 46 67 30 20 53 50 44 34 28 42 55 43 31 41 58 64 70 18 25 27\n",
      " 66 29 60 26 45 19 37 49 38 57 47 48 40 21 33 51 35 69 61 52 39 56 59 65\n",
      " 22 54 68 32 23] \n",
      "\n",
      "Subscription_Length_Months \n",
      "\n",
      "[17  1  5  3 19 15 10 12 20 13  8 23  2  4 18  9 14 16  6  7 24 22 11 21] \n",
      "\n",
      "Monthly_Bill \n",
      "\n",
      "[73.36 48.76 85.47 ... 75.21 41.98 83.55] \n",
      "\n",
      "Total_Usage_GB \n",
      "\n",
      "[236 172 460 297 266 456 269 396 150 383 442 295 148 239 233 231 198 354\n",
      " 429 243 270 389 226 393  89 183 135 185 151 115 194 278 423 202 495 162\n",
      " 101 294 122 305 212 220 253 411 447 218 221 166  64  67 391 232 298 334\n",
      " 326 459 371 299 376 214 329  50 444 113  76 134 184 319 235  85 332  73\n",
      " 369 308 446 321  83 114 296 102 215 169 225 140  84 463 402 468 375 366\n",
      " 404 471 204 320 178 149 361 304 281 177 117 137 322 427 403 237 439 336\n",
      " 344 288 257 196 365 419 111 192 244 287 395 213 109 286 283 230 491 274\n",
      " 335 462 407 126 199 351 261 496 480 400 303 197 181 474 348 112 457  54\n",
      " 397 100 318 242 327 476 256 241 466 438  51 165 120 493  59 188 339 167\n",
      " 301 209 311 190 345 284 390  72 258 358 136 280  55 309 388  52 478 401\n",
      " 472  65 163 488 497  71 216 229 271 223 263 255 145 203 372 443 306 307\n",
      " 386 448 377 482 324 357 187 394 123 106  80 211  78 499 498 424 325 119\n",
      " 143 153 437 492 406  69 272 352 125  82 160 333 104 247 405 353  63 289\n",
      "  88 346  91 385 380 431 364  79 300 374  86 290 265 433 469 453 224 421\n",
      " 251 485 180 171  95  93 350  58 200 420 132 428 479  96 103 129 417  99\n",
      " 430  75  53 382 412 268 410  94 315 387 116 489 108 208 313 127 222 451\n",
      "  56 139 282 138 141 156 373 157 467  68 414 360 144 273 217 189 118 155\n",
      "  62 413 154 458 449 490 464 379 254 131  92 195 450 347 191 425 432 384\n",
      "  57 494 173 210 363 130 487 455 105 399 323  61 341 426 240 302 176 152\n",
      " 331 440 276  87 291 193  90 500 170 174 182 359 408 454 158 328 436 312\n",
      " 338  60 362 205 416 483 415 477 484 252 250 164 146 161 234 473 317  77\n",
      " 267 342 110 343 133 330 367 147  81 277 310 392 349 314 107 259 228 168\n",
      " 246 219  98 121 142 238 206  97 381 245 175 124 292 340 316 465 470 475\n",
      " 248 445 452 249 337  66 418 201 227 422 481 355 279 435 275 260  70 186\n",
      " 159 368 179 262 370  74 378 128 461 293 441 434 207 356 398 285 409 486\n",
      " 264] \n",
      "\n",
      "Churn \n",
      "\n",
      "[0 1] \n",
      "\n",
      "Gender_Female \n",
      "\n",
      "[0 1] \n",
      "\n",
      "Gender_Male \n",
      "\n",
      "[1 0] \n",
      "\n",
      "Location_Chicago \n",
      "\n",
      "[0 1] \n",
      "\n",
      "Location_Houston \n",
      "\n",
      "[0 1] \n",
      "\n",
      "Location_Los Angeles \n",
      "\n",
      "[1 0] \n",
      "\n",
      "Location_Miami \n",
      "\n",
      "[0 1] \n",
      "\n",
      "Location_New York \n",
      "\n",
      "[0 1] \n",
      "\n"
     ]
    }
   ],
   "source": [
    "#unique values in every column\n",
    "data_cols = data2.drop('CustomerID', axis = 1)\n",
    "\n",
    "for col in data_cols.columns:\n",
    "    print(col, \"\\n\")\n",
    "    print(data2[col].unique(), \"\\n\")"
   ]
  },
  {
   "cell_type": "code",
   "execution_count": 122,
   "id": "c260a62c",
   "metadata": {},
   "outputs": [
    {
     "data": {
      "image/png": "[encoded data removed]",
      "text/plain": [
       "<Figure size 600x400 with 1 Axes>"
      ]
     },
     "metadata": {},
     "output_type": "display_data"
    }
   ],
   "source": [
    "plt.figure(figsize = (6,4))\n",
    "\n",
    "ax = sns.distplot(data['Subscription_Length_Months'], rug=True, rug_kws={\"color\": \"k\"},\n",
    "                  kde_kws={\"color\": \"blue\", \"lw\": 3},\n",
    "                  hist_kws={\"histtype\": \"step\", \"linewidth\": 3,\n",
    "                            \"alpha\": 0.4, \"color\": \"k\"});"
   ]
  },
  {
   "cell_type": "code",
   "execution_count": 120,
   "id": "e463187f",
   "metadata": {},
   "outputs": [
    {
     "data": {
      "image/png": "[encoded data removed]",
      "text/plain": [
       "<Figure size 600x400 with 1 Axes>"
      ]
     },
     "metadata": {},
     "output_type": "display_data"
    }
   ],
   "source": [
    "plt.figure(figsize = (6,4))\n",
    "\n",
    "ax = sns.distplot(data['Total_Usage_GB'], rug=True, rug_kws={\"color\": \"k\"},\n",
    "                  kde_kws={\"color\": \"black\", \"lw\": 3},\n",
    "                  hist_kws={\"histtype\": \"step\", \"linewidth\": 3,\n",
    "                            \"alpha\": 0.4, \"color\" : '#d89968'});"
   ]
  },
  {
   "cell_type": "code",
   "execution_count": 62,
   "id": "5b23454a",
   "metadata": {},
   "outputs": [],
   "source": [
    "def corr_for_target(data, target, title=None):\n",
    "    plt.figure(figsize=(4,14))\n",
    "    sns.set(font_scale=1)\n",
    "    \n",
    "    sns.heatmap(data.corr()[[target]].sort_values(target, ascending=False)[1:], annot=True, cmap=\"plasma\")\n",
    "    \n",
    "    if title: plt.title(f\"\\n{title}\\n\", fontsize=18)\n",
    "    return"
   ]
  },
  {
   "cell_type": "code",
   "execution_count": 63,
   "id": "95dea058",
   "metadata": {},
   "outputs": [
    {
     "data": {
      "text/plain": [
       "<Figure size 2000x700 with 0 Axes>"
      ]
     },
     "metadata": {},
     "output_type": "display_data"
    },
    {
     "data": {
      "image/png": "[encoded data removed]",
      "text/plain": [
       "<Figure size 400x1400 with 2 Axes>"
      ]
     },
     "metadata": {},
     "output_type": "display_data"
    }
   ],
   "source": [
    "plt.figure(figsize = (20, 7))\n",
    "\n",
    "corr_for_target(data2, 'Churn');"
   ]
  },
  {
   "cell_type": "code",
   "execution_count": 75,
   "id": "09bba5a4",
   "metadata": {},
   "outputs": [
    {
     "data": {
      "image/png": "[encoded data removed]",
      "text/plain": [
       "<Figure size 800x400 with 1 Axes>"
      ]
     },
     "metadata": {},
     "output_type": "display_data"
    }
   ],
   "source": [
    "plt.figure(figsize = (8, 4))\n",
    "sns.countplot('Location', data = df, hue = 'Churn');"
   ]
  },
  {
   "cell_type": "code",
   "execution_count": 137,
   "id": "fdfcb59d",
   "metadata": {},
   "outputs": [
    {
     "data": {
      "image/png": "[encoded data removed]",
      "text/plain": [
       "<Figure size 800x800 with 2 Axes>"
      ]
     },
     "metadata": {},
     "output_type": "display_data"
    }
   ],
   "source": [
    "#checking colinearity between variables\n",
    "\n",
    "corr_matrix = df.corr()\n",
    "\n",
    "plt.figure(figsize=(8,8)) #(width,height)\n",
    "sns.heatmap(corr_matrix, annot=True, cmap='magma', square=True)\n",
    "plt.title('Correlation Matrix Heatmap')\n",
    "plt.show()"
   ]
  },
  {
   "cell_type": "markdown",
   "id": "b5e9668d",
   "metadata": {},
   "source": [
    "Splitting the dataset\n"
   ]
  },
  {
   "cell_type": "code",
   "execution_count": 38,
   "id": "9df71256",
   "metadata": {},
   "outputs": [],
   "source": [
    "x = data2.drop('Churn', axis=1)\n",
    "\n",
    "y = data2['Churn']"
   ]
  },
  {
   "cell_type": "code",
   "execution_count": 39,
   "id": "96cd0e56",
   "metadata": {},
   "outputs": [],
   "source": [
    "from sklearn.model_selection import train_test_split\n",
    "X_train, X_test, y_train, y_test = train_test_split(x, y, test_size=0.3, random_state=42)"
   ]
  },
  {
   "cell_type": "code",
   "execution_count": 41,
   "id": "65010b3f",
   "metadata": {},
   "outputs": [
    {
     "data": {
      "text/plain": [
       "((70000, 12), (70000,))"
      ]
     },
     "execution_count": 41,
     "metadata": {},
     "output_type": "execute_result"
    }
   ],
   "source": [
    "X_train.shape, y_train.shape"
   ]
  },
  {
   "cell_type": "code",
   "execution_count": 42,
   "id": "6bc7415a",
   "metadata": {},
   "outputs": [
    {
     "data": {
      "text/plain": [
       "((30000, 12), (30000,))"
      ]
     },
     "execution_count": 42,
     "metadata": {},
     "output_type": "execute_result"
    }
   ],
   "source": [
    "X_test.shape, y_test.shape\n"
   ]
  },
  {
   "cell_type": "markdown",
   "id": "2633d149",
   "metadata": {},
   "source": [
    "Class Imbalance"
   ]
  },
  {
   "cell_type": "code",
   "execution_count": 44,
   "id": "b07eeed0",
   "metadata": {},
   "outputs": [
    {
     "data": {
      "text/plain": [
       "0    50221\n",
       "1    49779\n",
       "Name: Churn, dtype: int64"
      ]
     },
     "execution_count": 44,
     "metadata": {},
     "output_type": "execute_result"
    }
   ],
   "source": [
    "class_counts = df['Churn'].value_counts()\n",
    "class_counts"
   ]
  },
  {
   "cell_type": "code",
   "execution_count": 133,
   "id": "57428982",
   "metadata": {},
   "outputs": [
    {
     "data": {
      "image/png": "[encoded data removed]",
      "text/plain": [
       "<Figure size 640x480 with 1 Axes>"
      ]
     },
     "metadata": {},
     "output_type": "display_data"
    }
   ],
   "source": [
    "import matplotlib.pyplot as plt\n",
    "import matplotlib.cm as cm\n",
    "\n",
    "# Create a colormap\n",
    "cmap = cm.inferno\n",
    "\n",
    "# Plot the bar chart\n",
    "class_counts.plot(kind='bar', colormap='Purples_r')\n",
    "\n",
    "# Add a title, labels, and rotate the x-axis labels\n",
    "plt.title('Class Distribution')\n",
    "plt.xlabel('Class')\n",
    "plt.ylabel('Count')\n",
    "plt.xticks(rotation=360)\n",
    "\n",
    "# Display the plot\n",
    "plt.show()"
   ]
  },
  {
   "cell_type": "markdown",
   "id": "364891b7",
   "metadata": {},
   "source": [
    "Even Distribution of Class (0,1)"
   ]
  },
  {
   "cell_type": "markdown",
   "id": "da7abdd0",
   "metadata": {},
   "source": [
    "Checking multicolinearity of X_train_resampled\n"
   ]
  },
  {
   "cell_type": "code",
   "execution_count": 67,
   "id": "84f2ca5c",
   "metadata": {},
   "outputs": [
    {
     "data": {
      "text/html": [
       "<div>\n",
       "<style scoped>\n",
       "    .dataframe tbody tr th:only-of-type {\n",
       "        vertical-align: middle;\n",
       "    }\n",
       "\n",
       "    .dataframe tbody tr th {\n",
       "        vertical-align: top;\n",
       "    }\n",
       "\n",
       "    .dataframe thead th {\n",
       "        text-align: right;\n",
       "    }\n",
       "</style>\n",
       "<table border=\"1\" class=\"dataframe\">\n",
       "  <thead>\n",
       "    <tr style=\"text-align: right;\">\n",
       "      <th></th>\n",
       "      <th>Variable</th>\n",
       "      <th>VIF</th>\n",
       "    </tr>\n",
       "  </thead>\n",
       "  <tbody>\n",
       "    <tr>\n",
       "      <th>5</th>\n",
       "      <td>Gender_Female</td>\n",
       "      <td>inf</td>\n",
       "    </tr>\n",
       "    <tr>\n",
       "      <th>6</th>\n",
       "      <td>Gender_Male</td>\n",
       "      <td>inf</td>\n",
       "    </tr>\n",
       "    <tr>\n",
       "      <th>7</th>\n",
       "      <td>Location_Chicago</td>\n",
       "      <td>inf</td>\n",
       "    </tr>\n",
       "    <tr>\n",
       "      <th>8</th>\n",
       "      <td>Location_Houston</td>\n",
       "      <td>inf</td>\n",
       "    </tr>\n",
       "    <tr>\n",
       "      <th>9</th>\n",
       "      <td>Location_Los Angeles</td>\n",
       "      <td>inf</td>\n",
       "    </tr>\n",
       "    <tr>\n",
       "      <th>10</th>\n",
       "      <td>Location_Miami</td>\n",
       "      <td>inf</td>\n",
       "    </tr>\n",
       "    <tr>\n",
       "      <th>11</th>\n",
       "      <td>Location_New York</td>\n",
       "      <td>inf</td>\n",
       "    </tr>\n",
       "    <tr>\n",
       "      <th>2</th>\n",
       "      <td>Subscription_Length_Months</td>\n",
       "      <td>1.000168</td>\n",
       "    </tr>\n",
       "    <tr>\n",
       "      <th>0</th>\n",
       "      <td>CustomerID</td>\n",
       "      <td>1.000126</td>\n",
       "    </tr>\n",
       "    <tr>\n",
       "      <th>3</th>\n",
       "      <td>Monthly_Bill</td>\n",
       "      <td>1.000109</td>\n",
       "    </tr>\n",
       "    <tr>\n",
       "      <th>1</th>\n",
       "      <td>Age</td>\n",
       "      <td>1.000082</td>\n",
       "    </tr>\n",
       "    <tr>\n",
       "      <th>4</th>\n",
       "      <td>Total_Usage_GB</td>\n",
       "      <td>1.000055</td>\n",
       "    </tr>\n",
       "  </tbody>\n",
       "</table>\n",
       "</div>"
      ],
      "text/plain": [
       "                      Variable       VIF\n",
       "5                Gender_Female       inf\n",
       "6                  Gender_Male       inf\n",
       "7             Location_Chicago       inf\n",
       "8             Location_Houston       inf\n",
       "9         Location_Los Angeles       inf\n",
       "10              Location_Miami       inf\n",
       "11           Location_New York       inf\n",
       "2   Subscription_Length_Months  1.000168\n",
       "0                   CustomerID  1.000126\n",
       "3                 Monthly_Bill  1.000109\n",
       "1                          Age  1.000082\n",
       "4               Total_Usage_GB  1.000055"
      ]
     },
     "execution_count": 67,
     "metadata": {},
     "output_type": "execute_result"
    }
   ],
   "source": [
    "from statsmodels.stats.outliers_influence import variance_inflation_factor\n",
    "\n",
    "vif = pd.DataFrame()\n",
    "vif[\"Variable\"] = X_train.columns\n",
    "vif[\"VIF\"] = [variance_inflation_factor(X_train.values, i) for i in range(X_train.shape[1])]\n",
    "vif = vif.sort_values(by='VIF', ascending=False)\n",
    "\n",
    "vif"
   ]
  },
  {
   "cell_type": "code",
   "execution_count": 68,
   "id": "47434cb0",
   "metadata": {},
   "outputs": [],
   "source": [
    "from sklearn.model_selection import train_test_split\n",
    "from sklearn.linear_model import LogisticRegression\n",
    "from sklearn import metrics\n",
    "#from xgboost import XGBClassifier\n",
    "from sklearn.ensemble import RandomForestClassifier\n",
    "from sklearn.tree import DecisionTreeClassifier\n",
    "from sklearn.ensemble import GradientBoostingClassifier\n",
    "#from lightgbm import LGBMClassifier\n",
    "from sklearn.svm import SVC\n",
    "from sklearn.neighbors import KNeighborsClassifier\n",
    "from sklearn.model_selection import cross_val_score\n",
    "from sklearn.model_selection import GridSearchCV\n",
    "from sklearn.preprocessing import StandardScaler"
   ]
  },
  {
   "cell_type": "code",
   "execution_count": 69,
   "id": "43e0c662",
   "metadata": {},
   "outputs": [],
   "source": [
    "import time\n",
    "from sklearn.metrics import classification_report, accuracy_score, precision_score, recall_score, f1_score"
   ]
  },
  {
   "cell_type": "code",
   "execution_count": 71,
   "id": "af6f6898",
   "metadata": {},
   "outputs": [
    {
     "data": {
      "text/html": [
       "<div>\n",
       "<style scoped>\n",
       "    .dataframe tbody tr th:only-of-type {\n",
       "        vertical-align: middle;\n",
       "    }\n",
       "\n",
       "    .dataframe tbody tr th {\n",
       "        vertical-align: top;\n",
       "    }\n",
       "\n",
       "    .dataframe thead th {\n",
       "        text-align: right;\n",
       "    }\n",
       "</style>\n",
       "<table border=\"1\" class=\"dataframe\">\n",
       "  <thead>\n",
       "    <tr style=\"text-align: right;\">\n",
       "      <th></th>\n",
       "      <th>Algorithm</th>\n",
       "      <th>Accuracy</th>\n",
       "      <th>Precision</th>\n",
       "      <th>Recall</th>\n",
       "      <th>F1-score</th>\n",
       "      <th>Building Time (s)</th>\n",
       "    </tr>\n",
       "  </thead>\n",
       "  <tbody>\n",
       "    <tr>\n",
       "      <th>0</th>\n",
       "      <td>LogisticRegression</td>\n",
       "      <td>0.500986</td>\n",
       "      <td>0.250987</td>\n",
       "      <td>0.500986</td>\n",
       "      <td>0.334429</td>\n",
       "      <td>12.367099</td>\n",
       "    </tr>\n",
       "    <tr>\n",
       "      <th>1</th>\n",
       "      <td>DecisionTreeClassifier</td>\n",
       "      <td>1.000000</td>\n",
       "      <td>1.000000</td>\n",
       "      <td>1.000000</td>\n",
       "      <td>1.000000</td>\n",
       "      <td>1.737947</td>\n",
       "    </tr>\n",
       "    <tr>\n",
       "      <th>2</th>\n",
       "      <td>KNeighborsClassifier</td>\n",
       "      <td>0.687014</td>\n",
       "      <td>0.687014</td>\n",
       "      <td>0.687014</td>\n",
       "      <td>0.687014</td>\n",
       "      <td>3.106132</td>\n",
       "    </tr>\n",
       "    <tr>\n",
       "      <th>3</th>\n",
       "      <td>GradientBoostingClassifier</td>\n",
       "      <td>0.539971</td>\n",
       "      <td>0.540269</td>\n",
       "      <td>0.539971</td>\n",
       "      <td>0.538819</td>\n",
       "      <td>14.466734</td>\n",
       "    </tr>\n",
       "    <tr>\n",
       "      <th>4</th>\n",
       "      <td>RandomForestClassifier</td>\n",
       "      <td>1.000000</td>\n",
       "      <td>1.000000</td>\n",
       "      <td>1.000000</td>\n",
       "      <td>1.000000</td>\n",
       "      <td>9.247264</td>\n",
       "    </tr>\n",
       "    <tr>\n",
       "      <th>5</th>\n",
       "      <td>SVC</td>\n",
       "      <td>0.503271</td>\n",
       "      <td>0.506014</td>\n",
       "      <td>0.503271</td>\n",
       "      <td>0.418699</td>\n",
       "      <td>31647.559450</td>\n",
       "    </tr>\n",
       "  </tbody>\n",
       "</table>\n",
       "</div>"
      ],
      "text/plain": [
       "                    Algorithm  Accuracy  Precision    Recall  F1-score  \\\n",
       "0          LogisticRegression  0.500986   0.250987  0.500986  0.334429   \n",
       "1      DecisionTreeClassifier  1.000000   1.000000  1.000000  1.000000   \n",
       "2        KNeighborsClassifier  0.687014   0.687014  0.687014  0.687014   \n",
       "3  GradientBoostingClassifier  0.539971   0.540269  0.539971  0.538819   \n",
       "4      RandomForestClassifier  1.000000   1.000000  1.000000  1.000000   \n",
       "5                         SVC  0.503271   0.506014  0.503271  0.418699   \n",
       "\n",
       "   Building Time (s)  \n",
       "0          12.367099  \n",
       "1           1.737947  \n",
       "2           3.106132  \n",
       "3          14.466734  \n",
       "4           9.247264  \n",
       "5       31647.559450  "
      ]
     },
     "execution_count": 71,
     "metadata": {},
     "output_type": "execute_result"
    }
   ],
   "source": [
    "algorithms = [\n",
    "    LogisticRegression(n_jobs=-1, random_state=42),\n",
    "    DecisionTreeClassifier(random_state=42),\n",
    "    KNeighborsClassifier(n_jobs=-1),\n",
    "    GradientBoostingClassifier(random_state=42),\n",
    "    RandomForestClassifier(n_jobs=-1, random_state=42),\n",
    "    SVC(random_state=42)\n",
    "]\n",
    "\n",
    "# Initialize the results dictionary for training data\n",
    "results_train = {\n",
    "    'Algorithm': [],\n",
    "    'Accuracy': [],\n",
    "    'Precision': [],\n",
    "    'Recall': [],\n",
    "    'F1-score': [],\n",
    "    'Building Time (s)': []\n",
    "}\n",
    "\n",
    "# Apply the algorithms and calculate performance metrics for training data\n",
    "for algorithm in algorithms:\n",
    "    start_time = time.time()  # Start timer\n",
    "\n",
    "    algorithm_name = type(algorithm).__name__\n",
    "    algorithm.fit(X_train, y_train)\n",
    "    y_train_pred = algorithm.predict(X_train)\n",
    "\n",
    "    accuracy = accuracy_score(y_train, y_train_pred)\n",
    "    precision = precision_score(y_train, y_train_pred, average='weighted')\n",
    "    recall = recall_score(y_train, y_train_pred, average='weighted')\n",
    "    f1 = f1_score(y_train, y_train_pred, average='weighted')\n",
    "\n",
    "    end_time = time.time()  # End timer\n",
    "    building_time = end_time - start_time\n",
    "\n",
    "    results_train['Algorithm'].append(algorithm_name)\n",
    "    results_train['Accuracy'].append(accuracy)\n",
    "    results_train['Precision'].append(precision)\n",
    "    results_train['Recall'].append(recall)\n",
    "    results_train['F1-score'].append(f1)\n",
    "    results_train['Building Time (s)'].append(building_time)\n",
    "\n",
    "# Create a dataframe for the training data results\n",
    "df_train = pd.DataFrame(results_train)\n",
    "df_train"
   ]
  },
  {
   "cell_type": "code",
   "execution_count": 72,
   "id": "26720f50",
   "metadata": {},
   "outputs": [
    {
     "data": {
      "text/html": [
       "<div>\n",
       "<style scoped>\n",
       "    .dataframe tbody tr th:only-of-type {\n",
       "        vertical-align: middle;\n",
       "    }\n",
       "\n",
       "    .dataframe tbody tr th {\n",
       "        vertical-align: top;\n",
       "    }\n",
       "\n",
       "    .dataframe thead th {\n",
       "        text-align: right;\n",
       "    }\n",
       "</style>\n",
       "<table border=\"1\" class=\"dataframe\">\n",
       "  <thead>\n",
       "    <tr style=\"text-align: right;\">\n",
       "      <th></th>\n",
       "      <th>Algorithm</th>\n",
       "      <th>Accuracy</th>\n",
       "      <th>Precision</th>\n",
       "      <th>Recall</th>\n",
       "      <th>F1-score</th>\n",
       "    </tr>\n",
       "  </thead>\n",
       "  <tbody>\n",
       "    <tr>\n",
       "      <th>0</th>\n",
       "      <td>LogisticRegression</td>\n",
       "      <td>0.505067</td>\n",
       "      <td>0.255092</td>\n",
       "      <td>0.505067</td>\n",
       "      <td>0.338978</td>\n",
       "    </tr>\n",
       "    <tr>\n",
       "      <th>1</th>\n",
       "      <td>DecisionTreeClassifier</td>\n",
       "      <td>0.499833</td>\n",
       "      <td>0.499863</td>\n",
       "      <td>0.499833</td>\n",
       "      <td>0.499844</td>\n",
       "    </tr>\n",
       "    <tr>\n",
       "      <th>2</th>\n",
       "      <td>KNeighborsClassifier</td>\n",
       "      <td>0.499567</td>\n",
       "      <td>0.499606</td>\n",
       "      <td>0.499567</td>\n",
       "      <td>0.499579</td>\n",
       "    </tr>\n",
       "    <tr>\n",
       "      <th>3</th>\n",
       "      <td>GradientBoostingClassifier</td>\n",
       "      <td>0.503200</td>\n",
       "      <td>0.502857</td>\n",
       "      <td>0.503200</td>\n",
       "      <td>0.502398</td>\n",
       "    </tr>\n",
       "    <tr>\n",
       "      <th>4</th>\n",
       "      <td>RandomForestClassifier</td>\n",
       "      <td>0.498933</td>\n",
       "      <td>0.498712</td>\n",
       "      <td>0.498933</td>\n",
       "      <td>0.498591</td>\n",
       "    </tr>\n",
       "    <tr>\n",
       "      <th>5</th>\n",
       "      <td>SVC</td>\n",
       "      <td>0.506500</td>\n",
       "      <td>0.506308</td>\n",
       "      <td>0.506500</td>\n",
       "      <td>0.422036</td>\n",
       "    </tr>\n",
       "  </tbody>\n",
       "</table>\n",
       "</div>"
      ],
      "text/plain": [
       "                    Algorithm  Accuracy  Precision    Recall  F1-score\n",
       "0          LogisticRegression  0.505067   0.255092  0.505067  0.338978\n",
       "1      DecisionTreeClassifier  0.499833   0.499863  0.499833  0.499844\n",
       "2        KNeighborsClassifier  0.499567   0.499606  0.499567  0.499579\n",
       "3  GradientBoostingClassifier  0.503200   0.502857  0.503200  0.502398\n",
       "4      RandomForestClassifier  0.498933   0.498712  0.498933  0.498591\n",
       "5                         SVC  0.506500   0.506308  0.506500  0.422036"
      ]
     },
     "execution_count": 72,
     "metadata": {},
     "output_type": "execute_result"
    }
   ],
   "source": [
    "results_test = {\n",
    "    'Algorithm': [],\n",
    "    'Accuracy': [],\n",
    "    'Precision': [],\n",
    "    'Recall': [],\n",
    "    'F1-score': []\n",
    "}\n",
    "\n",
    "# Apply the algorithms and calculate performance metrics for test data\n",
    "for algorithm in algorithms:\n",
    "    algorithm_name = type(algorithm).__name__\n",
    "    y_test_pred = algorithm.predict(X_test)\n",
    "\n",
    "    accuracy = accuracy_score(y_test, y_test_pred)\n",
    "    precision = precision_score(y_test, y_test_pred, average='weighted')\n",
    "    recall = recall_score(y_test, y_test_pred, average='weighted')\n",
    "    f1 = f1_score(y_test, y_test_pred, average='weighted')\n",
    "\n",
    "    results_test['Algorithm'].append(algorithm_name)\n",
    "    results_test['Accuracy'].append(accuracy)\n",
    "    results_test['Precision'].append(precision)\n",
    "    results_test['Recall'].append(recall)\n",
    "    results_test['F1-score'].append(f1)\n",
    "\n",
    "# Create a dataframe for the test data results\n",
    "df_test = pd.DataFrame(results_test)\n",
    "df_test"
   ]
  },
  {
   "cell_type": "markdown",
   "id": "9d56c45e",
   "metadata": {},
   "source": [
    "Logistic Regression "
   ]
  },
  {
   "cell_type": "code",
   "execution_count": 76,
   "id": "b1577dbd",
   "metadata": {},
   "outputs": [],
   "source": [
    "log = LogisticRegression()\n",
    "log.fit(X_train, y_train)\n",
    "\n",
    "log_y_pred = log.predict(X_test)\n",
    "log_y_pred_train = log.predict(X_train)"
   ]
  },
  {
   "cell_type": "code",
   "execution_count": 77,
   "id": "ecf65e1b",
   "metadata": {},
   "outputs": [],
   "source": [
    "log_test_as = metrics.accuracy_score(log_y_pred, y_test)\n",
    "log_train_as = metrics.accuracy_score(log_y_pred_train, y_train)"
   ]
  },
  {
   "cell_type": "code",
   "execution_count": 78,
   "id": "ec8f937f",
   "metadata": {},
   "outputs": [
    {
     "name": "stdout",
     "output_type": "stream",
     "text": [
      "Accuracy score for test data : 0.5050666666666667\n",
      "Accuracy score for train data : 0.5009857142857143\n"
     ]
    }
   ],
   "source": [
    "print(f\"Accuracy score for test data : {log_test_as}\")\n",
    "print(f\"Accuracy score for train data : {log_train_as}\")"
   ]
  },
  {
   "cell_type": "code",
   "execution_count": 79,
   "id": "517f9461",
   "metadata": {},
   "outputs": [
    {
     "name": "stdout",
     "output_type": "stream",
     "text": [
      "              precision    recall  f1-score   support\n",
      "\n",
      "           0       1.00      0.51      0.67     30000\n",
      "           1       0.00      0.00      0.00         0\n",
      "\n",
      "    accuracy                           0.51     30000\n",
      "   macro avg       0.50      0.25      0.34     30000\n",
      "weighted avg       1.00      0.51      0.67     30000\n",
      "\n"
     ]
    }
   ],
   "source": [
    "print(metrics.classification_report(log_y_pred, y_test))"
   ]
  },
  {
   "cell_type": "code",
   "execution_count": 80,
   "id": "dad08b9a",
   "metadata": {},
   "outputs": [],
   "source": [
    "y_proba_log = log.predict_proba(X_test)[:, 1]\n",
    "fpr, tpr, threshold = metrics.roc_curve(y_test, y_proba_log)"
   ]
  },
  {
   "cell_type": "code",
   "execution_count": 134,
   "id": "cb675d6b",
   "metadata": {},
   "outputs": [
    {
     "data": {
      "image/png": "[encoded data removed]",
      "text/plain": [
       "<Figure size 640x480 with 1 Axes>"
      ]
     },
     "metadata": {},
     "output_type": "display_data"
    }
   ],
   "source": [
    "plt.plot([0, 1], [0, 1], 'r--')\n",
    "plt.plot(fpr, tpr, label = 'Logistic Regression')\n",
    "plt.xlabel('fpr')\n",
    "plt.ylabel('tpr')\n",
    "plt.title('ROC Curve')\n",
    "plt.legend();"
   ]
  },
  {
   "cell_type": "markdown",
   "id": "71ff3be1",
   "metadata": {},
   "source": [
    "None of the above models are performing good on this dataset"
   ]
  },
  {
   "cell_type": "code",
   "execution_count": 93,
   "id": "ac00a0d1",
   "metadata": {},
   "outputs": [],
   "source": [
    "import tensorflow as tf\n",
    "from tensorflow.keras.models import Sequential\n",
    "from tensorflow.keras.utils import plot_model\n",
    "from tensorflow.keras.layers import Dense, BatchNormalization, Activation, Dropout\n",
    "from tensorflow.keras.optimizers import Adam\n",
    "from tensorflow.keras.callbacks import EarlyStopping, ModelCheckpoint\n",
    "from sklearn.metrics import recall_score"
   ]
  },
  {
   "cell_type": "code",
   "execution_count": 94,
   "id": "9c86f6bf",
   "metadata": {},
   "outputs": [],
   "source": [
    "early_stopping = EarlyStopping(\n",
    "    monitor='val_loss',        \n",
    "    min_delta=0.001,           \n",
    "    patience=10,              \n",
    "    verbose=1,                \n",
    "    mode='auto',              \n",
    "    restore_best_weights=True \n",
    ")"
   ]
  },
  {
   "cell_type": "code",
   "execution_count": 95,
   "id": "caadb50e",
   "metadata": {},
   "outputs": [],
   "source": [
    "checkpoint = ModelCheckpoint('ChurnClassifier.h5', monitor='val_loss', verbose=1, save_best_only=True, mode='min')"
   ]
  },
  {
   "cell_type": "code",
   "execution_count": 106,
   "id": "bb8ce315",
   "metadata": {},
   "outputs": [
    {
     "name": "stdout",
     "output_type": "stream",
     "text": [
      "Looking in indexes: https://pypi.org/simple, https://pypi.ngc.nvidia.com\n",
      "Collecting XGBoost\n",
      "  Downloading xgboost-2.0.0-py3-none-win_amd64.whl (99.7 MB)\n",
      "     ---------------------------------------- 99.7/99.7 MB 5.2 MB/s eta 0:00:00\n",
      "Requirement already satisfied: numpy in c:\\users\\anshika\\anaconda3\\2023\\lib\\site-packages (from XGBoost) (1.24.4)\n",
      "Requirement already satisfied: scipy in c:\\users\\anshika\\anaconda3\\2023\\lib\\site-packages (from XGBoost) (1.9.1)\n",
      "Installing collected packages: XGBoost\n",
      "Successfully installed XGBoost-2.0.0\n"
     ]
    },
    {
     "name": "stderr",
     "output_type": "stream",
     "text": [
      "WARNING: Ignoring invalid distribution -rotobuf (c:\\users\\anshika\\anaconda3\\2023\\lib\\site-packages)\n",
      "WARNING: Ignoring invalid distribution -rotobuf (c:\\users\\anshika\\anaconda3\\2023\\lib\\site-packages)\n",
      "WARNING: Ignoring invalid distribution -rotobuf (c:\\users\\anshika\\anaconda3\\2023\\lib\\site-packages)\n",
      "WARNING: Ignoring invalid distribution -rotobuf (c:\\users\\anshika\\anaconda3\\2023\\lib\\site-packages)\n",
      "WARNING: Ignoring invalid distribution -rotobuf (c:\\users\\anshika\\anaconda3\\2023\\lib\\site-packages)\n",
      "WARNING: Ignoring invalid distribution -rotobuf (c:\\users\\anshika\\anaconda3\\2023\\lib\\site-packages)\n",
      "WARNING: Ignoring invalid distribution -rotobuf (c:\\users\\anshika\\anaconda3\\2023\\lib\\site-packages)\n",
      "\n",
      "[notice] A new release of pip is available: 23.1.2 -> 23.2.1\n",
      "[notice] To update, run: python.exe -m pip install --upgrade pip\n"
     ]
    }
   ],
   "source": [
    "!pip install XGBoost\n",
    "import xgboost as xgb"
   ]
  },
  {
   "cell_type": "code",
   "execution_count": 117,
   "id": "f58895e4",
   "metadata": {},
   "outputs": [
    {
     "name": "stdout",
     "output_type": "stream",
     "text": [
      "Training Data Results -->\n"
     ]
    },
    {
     "data": {
      "text/html": [
       "<div>\n",
       "<style scoped>\n",
       "    .dataframe tbody tr th:only-of-type {\n",
       "        vertical-align: middle;\n",
       "    }\n",
       "\n",
       "    .dataframe tbody tr th {\n",
       "        vertical-align: top;\n",
       "    }\n",
       "\n",
       "    .dataframe thead th {\n",
       "        text-align: right;\n",
       "    }\n",
       "</style>\n",
       "<table border=\"1\" class=\"dataframe\">\n",
       "  <thead>\n",
       "    <tr style=\"text-align: right;\">\n",
       "      <th></th>\n",
       "      <th>Accuracy</th>\n",
       "      <th>Precision</th>\n",
       "      <th>Recall</th>\n",
       "      <th>F1 Score</th>\n",
       "      <th>Building Time</th>\n",
       "    </tr>\n",
       "  </thead>\n",
       "  <tbody>\n",
       "    <tr>\n",
       "      <th>Gradient Boosting</th>\n",
       "      <td>0.529529</td>\n",
       "      <td>0.530200</td>\n",
       "      <td>0.529529</td>\n",
       "      <td>0.526217</td>\n",
       "      <td>5.672780</td>\n",
       "    </tr>\n",
       "    <tr>\n",
       "      <th>XGBoost</th>\n",
       "      <td>0.634829</td>\n",
       "      <td>0.634875</td>\n",
       "      <td>0.634829</td>\n",
       "      <td>0.634779</td>\n",
       "      <td>0.394677</td>\n",
       "    </tr>\n",
       "  </tbody>\n",
       "</table>\n",
       "</div>"
      ],
      "text/plain": [
       "                   Accuracy  Precision    Recall  F1 Score  Building Time\n",
       "Gradient Boosting  0.529529   0.530200  0.529529  0.526217       5.672780\n",
       "XGBoost            0.634829   0.634875  0.634829  0.634779       0.394677"
      ]
     },
     "execution_count": 117,
     "metadata": {},
     "output_type": "execute_result"
    }
   ],
   "source": [
    "from xgboost import XGBClassifier\n",
    "base_estimator = RandomForestClassifier(n_estimators=100, random_state=42)\n",
    "\n",
    "# Initialize models\n",
    "gradient_boost_model = GradientBoostingClassifier(n_estimators=50, random_state=42)\n",
    "xgboost_model = XGBClassifier(n_estimators=50, random_state=42)\n",
    "\n",
    "# Initialize lists to store metrics\n",
    "models = ['Gradient Boosting', 'XGBoost']\n",
    "metrics = ['Accuracy', 'Precision', 'Recall', 'F1 Score', 'Building Time']\n",
    "results_train = {metric: [] for metric in metrics}\n",
    "results_test = {metric: [] for metric in metrics}\n",
    "\n",
    "# Train and evaluate models\n",
    "for model in [gradient_boost_model, xgboost_model]:\n",
    "    start_time = time.time()\n",
    "    model.fit(X_train, y_train)\n",
    "    end_time = time.time()\n",
    "\n",
    "    # Predict on the training set\n",
    "    y_train_pred = model.predict(X_train)\n",
    "\n",
    "    # Calculate metrics on training data\n",
    "    accuracy_train = accuracy_score(y_train, y_train_pred)\n",
    "    precision_train = precision_score(y_train, y_train_pred, average='weighted')\n",
    "    recall_train = recall_score(y_train, y_train_pred, average='weighted')\n",
    "    f1_train = f1_score(y_train, y_train_pred, average='weighted')\n",
    "    building_time = end_time - start_time\n",
    "\n",
    "    # Predict on the test set\n",
    "    y_test_pred = model.predict(X_test)\n",
    "\n",
    "    # Calculate metrics on test data\n",
    "    accuracy_test = accuracy_score(y_test, y_test_pred)\n",
    "    precision_test = precision_score(y_test, y_test_pred, average='weighted')\n",
    "    recall_test = recall_score(y_test, y_test_pred, average='weighted')\n",
    "    f1_test = f1_score(y_test, y_test_pred, average='weighted')\n",
    "\n",
    "    # Append metrics to the results dictionaries\n",
    "    results_train['Accuracy'].append(accuracy_train)\n",
    "    results_train['Precision'].append(precision_train)\n",
    "    results_train['Recall'].append(recall_train)\n",
    "    results_train['F1 Score'].append(f1_train)\n",
    "    results_train['Building Time'].append(building_time)\n",
    "\n",
    "    results_test['Accuracy'].append(accuracy_test)\n",
    "    results_test['Precision'].append(precision_test)\n",
    "    results_test['Recall'].append(recall_test)\n",
    "    results_test['F1 Score'].append(f1_test)\n",
    "    results_test['Building Time'].append(building_time)\n",
    "\n",
    "# Create DataFrames from the results\n",
    "results_train_df = pd.DataFrame(results_train, index=models)\n",
    "results_test_df = pd.DataFrame(results_test, index=models)\n",
    "\n",
    "# Display the DataFrames\n",
    "print(\"Training Data Results -->\")\n",
    "results_train_df\n"
   ]
  },
  {
   "cell_type": "code",
   "execution_count": 109,
   "id": "6703676f",
   "metadata": {},
   "outputs": [
    {
     "data": {
      "text/plain": [
       "XGBClassifier(base_score=None, booster=None, callbacks=None,\n",
       "              colsample_bylevel=None, colsample_bynode=None,\n",
       "              colsample_bytree=None, device=None, early_stopping_rounds=None,\n",
       "              enable_categorical=False, eval_metric=None, feature_types=None,\n",
       "              gamma=None, grow_policy=None, importance_type=None,\n",
       "              interaction_constraints=None, learning_rate=None, max_bin=None,\n",
       "              max_cat_threshold=None, max_cat_to_onehot=None,\n",
       "              max_delta_step=None, max_depth=None, max_leaves=None,\n",
       "              min_child_weight=None, missing=nan, monotone_constraints=None,\n",
       "              multi_strategy=None, n_estimators=None, n_jobs=None,\n",
       "              num_parallel_tree=None, random_state=42, ...)"
      ]
     },
     "execution_count": 109,
     "metadata": {},
     "output_type": "execute_result"
    }
   ],
   "source": [
    "xgb_classifier = XGBClassifier(\n",
    "    objective='binary:logistic',  # For binary classification\n",
    "    random_state=42               # Random seed for reproducibility\n",
    ")\n",
    "\n",
    "xgb_classifier.fit(X_train, y_train)"
   ]
  },
  {
   "cell_type": "code",
   "execution_count": 110,
   "id": "40a02171",
   "metadata": {},
   "outputs": [
    {
     "data": {
      "text/html": [
       "<div>\n",
       "<style scoped>\n",
       "    .dataframe tbody tr th:only-of-type {\n",
       "        vertical-align: middle;\n",
       "    }\n",
       "\n",
       "    .dataframe tbody tr th {\n",
       "        vertical-align: top;\n",
       "    }\n",
       "\n",
       "    .dataframe thead th {\n",
       "        text-align: right;\n",
       "    }\n",
       "</style>\n",
       "<table border=\"1\" class=\"dataframe\">\n",
       "  <thead>\n",
       "    <tr style=\"text-align: right;\">\n",
       "      <th></th>\n",
       "      <th>Metric</th>\n",
       "      <th>Train</th>\n",
       "      <th>Test</th>\n",
       "    </tr>\n",
       "  </thead>\n",
       "  <tbody>\n",
       "    <tr>\n",
       "      <th>0</th>\n",
       "      <td>Accuracy</td>\n",
       "      <td>0.689186</td>\n",
       "      <td>0.495767</td>\n",
       "    </tr>\n",
       "    <tr>\n",
       "      <th>1</th>\n",
       "      <td>Precision</td>\n",
       "      <td>0.691382</td>\n",
       "      <td>0.490442</td>\n",
       "    </tr>\n",
       "    <tr>\n",
       "      <th>2</th>\n",
       "      <td>Recall</td>\n",
       "      <td>0.681229</td>\n",
       "      <td>0.482085</td>\n",
       "    </tr>\n",
       "    <tr>\n",
       "      <th>3</th>\n",
       "      <td>F1-Score</td>\n",
       "      <td>0.686268</td>\n",
       "      <td>0.486228</td>\n",
       "    </tr>\n",
       "  </tbody>\n",
       "</table>\n",
       "</div>"
      ],
      "text/plain": [
       "      Metric     Train      Test\n",
       "0   Accuracy  0.689186  0.495767\n",
       "1  Precision  0.691382  0.490442\n",
       "2     Recall  0.681229  0.482085\n",
       "3   F1-Score  0.686268  0.486228"
      ]
     },
     "execution_count": 110,
     "metadata": {},
     "output_type": "execute_result"
    }
   ],
   "source": [
    "y_train_pred = xgb_classifier.predict(X_train)\n",
    "y_test_pred = xgb_classifier.predict(X_test)\n",
    "\n",
    "# Calculate metrics for train set\n",
    "train_accuracy = accuracy_score(y_train, y_train_pred)\n",
    "train_precision = precision_score(y_train, y_train_pred)\n",
    "train_recall = recall_score(y_train, y_train_pred)\n",
    "train_f1 = f1_score(y_train, y_train_pred)\n",
    "\n",
    "# Calculate metrics for test set\n",
    "test_accuracy = accuracy_score(y_test, y_test_pred)\n",
    "test_precision = precision_score(y_test, y_test_pred)\n",
    "test_recall = recall_score(y_test, y_test_pred)\n",
    "test_f1 = f1_score(y_test, y_test_pred)\n",
    "\n",
    "results = pd.DataFrame({\n",
    "    'Metric': ['Accuracy', 'Precision', 'Recall', 'F1-Score'],\n",
    "    'Train': [train_accuracy, train_precision, train_recall, train_f1],\n",
    "    'Test': [test_accuracy, test_precision, test_recall, test_f1]\n",
    "})\n",
    "\n",
    "results"
   ]
  },
  {
   "cell_type": "markdown",
   "id": "ae3f4c86",
   "metadata": {},
   "source": [
    "Cross validation of accuracy\n"
   ]
  },
  {
   "cell_type": "code",
   "execution_count": 111,
   "id": "3bb743fb",
   "metadata": {},
   "outputs": [
    {
     "name": "stdout",
     "output_type": "stream",
     "text": [
      "Cross-Validation Scores (Accuracy): [0.494      0.49871429 0.50171429 0.50071429 0.50071429]\n",
      "\n",
      "Mean Accuracy Score: 0.4991714285714285\n"
     ]
    }
   ],
   "source": [
    "from sklearn.model_selection import cross_val_score\n",
    "\n",
    "scores = cross_val_score(xgb_classifier, X_train, y_train, cv=5, scoring='accuracy',n_jobs=-1)\n",
    "\n",
    "print(\"Cross-Validation Scores (Accuracy):\", scores)\n",
    "print()\n",
    "print(\"Mean Accuracy Score:\", scores.mean())"
   ]
  },
  {
   "cell_type": "code",
   "execution_count": 112,
   "id": "47fed11b",
   "metadata": {},
   "outputs": [
    {
     "name": "stdout",
     "output_type": "stream",
     "text": [
      "Cross-Validation Scores (Recall): [0.4834693  0.50114515 0.4868308  0.49169768 0.48096192]\n",
      "\n",
      "Mean Recall Score: 0.4888209713913504\n"
     ]
    }
   ],
   "source": [
    "scores = cross_val_score(xgb_classifier, X_train, y_train, cv=5, scoring='recall',n_jobs=-1)\n",
    "\n",
    "print(\"Cross-Validation Scores (Recall):\", scores)\n",
    "print()\n",
    "print(\"Mean Recall Score:\", scores.mean())"
   ]
  },
  {
   "cell_type": "markdown",
   "id": "356d3774",
   "metadata": {},
   "source": [
    "Evaluation of Model"
   ]
  },
  {
   "cell_type": "code",
   "execution_count": 113,
   "id": "f7d91bca",
   "metadata": {},
   "outputs": [
    {
     "data": {
      "text/html": [
       "<div>\n",
       "<style scoped>\n",
       "    .dataframe tbody tr th:only-of-type {\n",
       "        vertical-align: middle;\n",
       "    }\n",
       "\n",
       "    .dataframe tbody tr th {\n",
       "        vertical-align: top;\n",
       "    }\n",
       "\n",
       "    .dataframe thead th {\n",
       "        text-align: right;\n",
       "    }\n",
       "</style>\n",
       "<table border=\"1\" class=\"dataframe\">\n",
       "  <thead>\n",
       "    <tr style=\"text-align: right;\">\n",
       "      <th></th>\n",
       "      <th>Dataset</th>\n",
       "      <th>Accuracy</th>\n",
       "      <th>Precision</th>\n",
       "      <th>Recall</th>\n",
       "      <th>F1-score</th>\n",
       "    </tr>\n",
       "  </thead>\n",
       "  <tbody>\n",
       "    <tr>\n",
       "      <th>0</th>\n",
       "      <td>Train</td>\n",
       "      <td>0.689186</td>\n",
       "      <td>0.689222</td>\n",
       "      <td>0.689170</td>\n",
       "      <td>0.689159</td>\n",
       "    </tr>\n",
       "    <tr>\n",
       "      <th>1</th>\n",
       "      <td>Test</td>\n",
       "      <td>0.495767</td>\n",
       "      <td>0.495627</td>\n",
       "      <td>0.495629</td>\n",
       "      <td>0.495593</td>\n",
       "    </tr>\n",
       "  </tbody>\n",
       "</table>\n",
       "</div>"
      ],
      "text/plain": [
       "  Dataset  Accuracy  Precision    Recall  F1-score\n",
       "0   Train  0.689186   0.689222  0.689170  0.689159\n",
       "1    Test  0.495767   0.495627  0.495629  0.495593"
      ]
     },
     "execution_count": 113,
     "metadata": {},
     "output_type": "execute_result"
    }
   ],
   "source": [
    "# Calculate evaluation metrics for train data\n",
    "train_accuracy = accuracy_score(y_train, y_train_pred)\n",
    "train_precision = precision_score(y_train, y_train_pred, average='macro')\n",
    "train_recall = recall_score(y_train, y_train_pred, average='macro')\n",
    "train_f1_score = f1_score(y_train, y_train_pred, average='macro')\n",
    "\n",
    "# Predict on the test data\n",
    "y_test_pred = xgb_classifier.predict(X_test)\n",
    "\n",
    "# Calculate evaluation metrics for test data\n",
    "test_accuracy = accuracy_score(y_test, y_test_pred)\n",
    "test_precision = precision_score(y_test, y_test_pred, average='macro')\n",
    "test_recall = recall_score(y_test, y_test_pred, average='macro')\n",
    "test_f1_score = f1_score(y_test, y_test_pred, average='macro')\n",
    "\n",
    "# Create a DataFrame to store the evaluation metrics\n",
    "metrics_data = {\n",
    "    'Dataset': ['Train', 'Test'],\n",
    "    'Accuracy': [train_accuracy, test_accuracy],\n",
    "    'Precision': [train_precision, test_precision],\n",
    "    'Recall': [train_recall, test_recall],\n",
    "    'F1-score': [train_f1_score, test_f1_score]\n",
    "}\n",
    "\n",
    "metrics_df = pd.DataFrame(metrics_data)\n",
    "metrics_df"
   ]
  },
  {
   "cell_type": "markdown",
   "id": "3e5817a6",
   "metadata": {},
   "source": [
    "Confusion Matrix"
   ]
  },
  {
   "cell_type": "code",
   "execution_count": 114,
   "id": "a2b4283c",
   "metadata": {},
   "outputs": [
    {
     "data": {
      "text/html": [
       "<div>\n",
       "<style scoped>\n",
       "    .dataframe tbody tr th:only-of-type {\n",
       "        vertical-align: middle;\n",
       "    }\n",
       "\n",
       "    .dataframe tbody tr th {\n",
       "        vertical-align: top;\n",
       "    }\n",
       "\n",
       "    .dataframe thead th {\n",
       "        text-align: right;\n",
       "    }\n",
       "</style>\n",
       "<table border=\"1\" class=\"dataframe\">\n",
       "  <thead>\n",
       "    <tr style=\"text-align: right;\">\n",
       "      <th></th>\n",
       "      <th>Training Set</th>\n",
       "      <th>Test Set</th>\n",
       "    </tr>\n",
       "  </thead>\n",
       "  <tbody>\n",
       "    <tr>\n",
       "      <th>True Positive (%)</th>\n",
       "      <td>34.924286</td>\n",
       "      <td>25.716667</td>\n",
       "    </tr>\n",
       "    <tr>\n",
       "      <th>True Negative (%)</th>\n",
       "      <td>15.174286</td>\n",
       "      <td>24.790000</td>\n",
       "    </tr>\n",
       "    <tr>\n",
       "      <th>False Positive (%)</th>\n",
       "      <td>15.907143</td>\n",
       "      <td>25.633333</td>\n",
       "    </tr>\n",
       "    <tr>\n",
       "      <th>False Negative (%)</th>\n",
       "      <td>33.994286</td>\n",
       "      <td>23.860000</td>\n",
       "    </tr>\n",
       "  </tbody>\n",
       "</table>\n",
       "</div>"
      ],
      "text/plain": [
       "                    Training Set   Test Set\n",
       "True Positive (%)      34.924286  25.716667\n",
       "True Negative (%)      15.174286  24.790000\n",
       "False Positive (%)     15.907143  25.633333\n",
       "False Negative (%)     33.994286  23.860000"
      ]
     },
     "execution_count": 114,
     "metadata": {},
     "output_type": "execute_result"
    }
   ],
   "source": [
    "from sklearn.metrics import confusion_matrix\n",
    "\n",
    "# Calculate predictions for the training set using a threshold of 0.50\n",
    "train_predictions = (xgb_classifier.predict_proba(X_train)[:, 1] >= 0.50).astype(int)\n",
    "train_confusion_matrix = confusion_matrix(y_train, train_predictions)\n",
    "\n",
    "# Calculate predictions for the test set using a threshold of 0.50\n",
    "test_predictions = (xgb_classifier.predict_proba(X_test)[:, 1] >= 0.50).astype(int)\n",
    "test_confusion_matrix = confusion_matrix(y_test, test_predictions)\n",
    "\n",
    "# Calculate the total number of samples in each set\n",
    "train_total = len(y_train)\n",
    "test_total = len(y_test)\n",
    "\n",
    "# Calculate the confusion matrix in percentage form for the training set\n",
    "train_confusion_matrix_percent = train_confusion_matrix / train_total * 100\n",
    "\n",
    "# Calculate the confusion matrix in percentage form for the test set\n",
    "test_confusion_matrix_percent = test_confusion_matrix / test_total * 100\n",
    "\n",
    "# Create a dataframe for the confusion matrix\n",
    "confusion_matrix_df = pd.DataFrame({'Training Set': train_confusion_matrix_percent.flatten(),\n",
    "                                    'Test Set': test_confusion_matrix_percent.flatten()},\n",
    "                                   index=['True Positive (%)', 'True Negative (%)', 'False Positive (%)', 'False Negative (%)', ])\n",
    "#\n",
    "confusion_matrix_df"
   ]
  },
  {
   "cell_type": "code",
   "execution_count": 116,
   "id": "09619a39",
   "metadata": {},
   "outputs": [
    {
     "data": {
      "image/png": "[encoded data removed]",
      "text/plain": [
       "<Figure size 600x400 with 1 Axes>"
      ]
     },
     "metadata": {},
     "output_type": "display_data"
    }
   ],
   "source": [
    "from sklearn.metrics import roc_curve, auc, roc_auc_score\n",
    "\n",
    "# Calculate predicted probabilities for the train data\n",
    "train_probabilities = xgb_classifier.predict_proba(X_train)[:, 1]\n",
    "\n",
    "# Apply the threshold of 0.50 to obtain binary predictions for train data\n",
    "train_predictions = (train_probabilities >= 0.50).astype(int)\n",
    "\n",
    "# Calculate the false positive rate, true positive rate, and thresholds for train data\n",
    "fpr_train, tpr_train, thresholds_train = roc_curve(y_train, train_probabilities)\n",
    "\n",
    "# Calculate the ROC-AUC score for train data\n",
    "roc_auc_train = roc_auc_score(y_train, train_predictions)\n",
    "\n",
    "# Calculate predicted probabilities for the test data\n",
    "test_probabilities = xgb_classifier.predict_proba(X_test)[:, 1]\n",
    "\n",
    "# Apply the threshold of 0.50 to obtain binary predictions for test data\n",
    "test_predictions = (test_probabilities >= 0.50).astype(int)\n",
    "\n",
    "# Calculate the false positive rate, true positive rate, and thresholds for test data\n",
    "fpr_test, tpr_test, thresholds_test = roc_curve(y_test, test_probabilities)\n",
    "\n",
    "# Calculate the ROC-AUC score for test data\n",
    "roc_auc_test = roc_auc_score(y_test, test_predictions)\n",
    "\n",
    "# Plot the ROC curves\n",
    "plt.figure(figsize=(6,4))\n",
    "plt.plot(fpr_train, tpr_train, label='Train ROC curve (area = {:.2f})'.format(roc_auc_train))\n",
    "plt.plot(fpr_test, tpr_test, label='Test ROC curve (area = {:.2f})'.format(roc_auc_test))\n",
    "plt.plot([0, 1], [0, 1], 'k--')\n",
    "plt.xlim([0.0, 1.0])\n",
    "plt.ylim([0.0, 1.05])\n",
    "plt.xlabel('False Positive Rate')\n",
    "plt.ylabel('True Positive Rate')\n",
    "plt.title('Receiver Operating Characteristic (ROC)')\n",
    "plt.legend(loc='lower right')\n",
    "plt.show()"
   ]
  },
  {
   "cell_type": "code",
   "execution_count": 135,
   "id": "4ea4aa41",
   "metadata": {},
   "outputs": [
    {
     "data": {
      "text/plain": [
       "['Customer_Churn_prediction_model.pkl']"
      ]
     },
     "execution_count": 135,
     "metadata": {},
     "output_type": "execute_result"
    }
   ],
   "source": [
    "import joblib\n",
    "\n",
    "\n",
    "joblib.dump(xgb_classifier, 'Customer_Churn_prediction_model.pkl')"
   ]
  }
 ],
 "metadata": {
  "kernelspec": {
   "display_name": "Python 3 (ipykernel)",
   "language": "python",
   "name": "python3"
  },
  "language_info": {
   "codemirror_mode": {
    "name": "ipython",
    "version": 3
   },
   "file_extension": ".py",
   "mimetype": "text/x-python",
   "name": "python",
   "nbconvert_exporter": "python",
   "pygments_lexer": "ipython3",
   "version": "3.9.13"
  }
 },
 "nbformat": 4,
 "nbformat_minor": 5
}
